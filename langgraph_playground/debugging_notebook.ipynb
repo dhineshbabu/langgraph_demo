{
 "cells": [
  {
   "cell_type": "code",
   "id": "initial_id",
   "metadata": {
    "collapsed": true,
    "ExecuteTime": {
     "end_time": "2025-06-19T23:41:26.505850Z",
     "start_time": "2025-06-19T23:41:26.503023Z"
    }
   },
   "source": "# This notebook is used for debugging the code",
   "outputs": [],
   "execution_count": 1
  },
  {
   "metadata": {
    "ExecuteTime": {
     "end_time": "2025-06-20T02:10:46.175244Z",
     "start_time": "2025-06-20T02:10:46.147477Z"
    }
   },
   "cell_type": "code",
   "source": "from typing_extensions import TypedDict",
   "id": "943541afde6b8929",
   "outputs": [],
   "execution_count": 2
  },
  {
   "metadata": {
    "ExecuteTime": {
     "end_time": "2025-06-20T02:11:03.573649Z",
     "start_time": "2025-06-20T02:11:03.569717Z"
    }
   },
   "cell_type": "code",
   "source": [
    "class State(TypedDict):\n",
    "    graph_info: str"
   ],
   "id": "94781bf1869d9ee4",
   "outputs": [],
   "execution_count": 3
  },
  {
   "metadata": {
    "ExecuteTime": {
     "end_time": "2025-06-20T02:31:49.114192Z",
     "start_time": "2025-06-20T02:31:49.109387Z"
    }
   },
   "cell_type": "code",
   "source": [
    "def start_play(state: State):\n",
    "    print(\"start_play node has been called \")\n",
    "    return {\"graph_info\": state[\"graph_info\"]+ \" I am planning to play\"}\n",
    "\n",
    "def cricket(state: State):\n",
    "    print(\"cricket node has been called \")\n",
    "    return {\"graph_info\": state[\"graph_info\"]+ \" Cricket\"}\n",
    "\n",
    "def badminton(state: State):\n",
    "    print(\"badminton node has been called \")\n",
    "    return {\"graph_info\": state[\"graph_info\"]+ \" Badminton\"}"
   ],
   "id": "a7831f2cfe0b091b",
   "outputs": [],
   "execution_count": 19
  },
  {
   "metadata": {
    "ExecuteTime": {
     "end_time": "2025-06-20T02:31:49.485651Z",
     "start_time": "2025-06-20T02:31:49.482315Z"
    }
   },
   "cell_type": "code",
   "source": [
    "import random\n",
    "from typing import Literal\n",
    "\n",
    "def random_play(state: State) -> Literal[\"cricket\", \"badminton\"]:\n",
    "    print(\"random_play node has been called \")\n",
    "    graph_info = state[\"graph_info\"]\n",
    "    if \"dhinesh\" in str(state['graph_info']):\n",
    "        return \"cricket\"\n",
    "    elif \"optimus\" in str(state['graph_info']):\n",
    "        return \"badminton\"\n",
    "    else:\n",
    "        return \"cricket\""
   ],
   "id": "d577809886778a03",
   "outputs": [],
   "execution_count": 20
  },
  {
   "metadata": {
    "ExecuteTime": {
     "end_time": "2025-06-20T02:31:54.620366Z",
     "start_time": "2025-06-20T02:31:54.497003Z"
    }
   },
   "cell_type": "code",
   "source": [
    "from IPython.display import Image,display\n",
    "from langgraph.graph import StateGraph,START,END\n",
    "\n",
    "graph = StateGraph(State)\n",
    "graph.add_node(\"start_play\",start_play)\n",
    "graph.add_node(\"cricket\",cricket)\n",
    "graph.add_node(\"badminton\",badminton)\n",
    "\n",
    "graph.add_edge(START, \"start_play\")\n",
    "graph.add_conditional_edges(\"start_play\", random_play)\n",
    "graph.add_edge(\"cricket\", END)\n",
    "graph.add_edge(\"badminton\",END)\n",
    "\n",
    "graph_builder = graph.compile()\n",
    "display(Image(graph_builder.get_graph().draw_mermaid_png()))\n"
   ],
   "id": "36c8c5023ada1ff5",
   "outputs": [
    {
     "data": {
      "image/png": "[encoded data removed]",
      "text/plain": [
       "<IPython.core.display.Image object>"
      ]
     },
     "metadata": {},
     "output_type": "display_data"
    }
   ],
   "execution_count": 21
  },
  {
   "metadata": {
    "ExecuteTime": {
     "end_time": "2025-06-20T02:31:55.597855Z",
     "start_time": "2025-06-20T02:31:55.591409Z"
    }
   },
   "cell_type": "code",
   "source": "graph_builder.invoke({\"graph_info\": \"test\"})",
   "id": "f64d5816bca9c612",
   "outputs": [
    {
     "name": "stdout",
     "output_type": "stream",
     "text": [
      "start_play node has been called \n",
      "random_play node has been called \n",
      "cricket node has been called \n"
     ]
    },
    {
     "data": {
      "text/plain": [
       "{'graph_info': 'test I am planning to play Cricket'}"
      ]
     },
     "execution_count": 22,
     "metadata": {},
     "output_type": "execute_result"
    }
   ],
   "execution_count": 22
  },
  {
   "metadata": {
    "ExecuteTime": {
     "end_time": "2025-06-20T02:40:02.749715Z",
     "start_time": "2025-06-20T02:40:02.744719Z"
    }
   },
   "cell_type": "code",
   "source": [
    "## Reducers\n",
    "from typing import Annotated\n",
    "from langgraph.graph.message import add_messages"
   ],
   "id": "7ade95dc2b3fdc16",
   "outputs": [],
   "execution_count": 23
  },
  {
   "metadata": {},
   "cell_type": "code",
   "outputs": [],
   "execution_count": null,
   "source": "",
   "id": "189e9b713195dfe7"
  },
  {
   "metadata": {
    "ExecuteTime": {
     "end_time": "2025-06-20T02:40:27.007349Z",
     "start_time": "2025-06-20T02:40:27.004030Z"
    }
   },
   "cell_type": "code",
   "source": [
    "class AgentState(TypedDict):\n",
    "    messages: Annotated[list, add_messages]\n"
   ],
   "id": "34d05e5f1bdaf71",
   "outputs": [],
   "execution_count": 24
  },
  {
   "metadata": {
    "ExecuteTime": {
     "end_time": "2025-06-20T03:16:39.932089Z",
     "start_time": "2025-06-20T03:16:38.466771Z"
    }
   },
   "cell_type": "code",
   "source": [
    "from langchain_openai import ChatOpenAI\n",
    "from dotenv import load_dotenv\n",
    "import os\n",
    "load_dotenv()\n",
    "\n",
    "os.environ[\"OPENAI_API_KEY\"]=os.getenv(\"OPENAI_API_KEY\")\n",
    "os.environ[\"GROQ_API_KEY\"]=os.getenv(\"GROQ_API_KEY\")\n",
    "\n",
    "llm = ChatOpenAI(model=\"gpt-4o\")\n",
    "llm.invoke(\"Hello\")"
   ],
   "id": "c221d626d5086826",
   "outputs": [
    {
     "data": {
      "text/plain": [
       "AIMessage(content='Hello! How can I assist you today?', additional_kwargs={'refusal': None}, response_metadata={'token_usage': {'completion_tokens': 9, 'prompt_tokens': 8, 'total_tokens': 17, 'completion_tokens_details': {'accepted_prediction_tokens': 0, 'audio_tokens': 0, 'reasoning_tokens': 0, 'rejected_prediction_tokens': 0}, 'prompt_tokens_details': {'audio_tokens': 0, 'cached_tokens': 0}}, 'model_name': 'gpt-4o-2024-08-06', 'system_fingerprint': 'fp_07871e2ad8', 'id': 'chatcmpl-BkMX12KpMYGXcv6abVp907falJuHt', 'service_tier': 'default', 'finish_reason': 'stop', 'logprobs': None}, id='run--403ff196-8c22-4fb7-9c75-8f18b5494057-0', usage_metadata={'input_tokens': 8, 'output_tokens': 9, 'total_tokens': 17, 'input_token_details': {'audio': 0, 'cache_read': 0}, 'output_token_details': {'audio': 0, 'reasoning': 0}})"
      ]
     },
     "execution_count": 27,
     "metadata": {},
     "output_type": "execute_result"
    }
   ],
   "execution_count": 27
  },
  {
   "metadata": {
    "ExecuteTime": {
     "end_time": "2025-06-20T03:18:03.102859Z",
     "start_time": "2025-06-20T03:18:02.875588Z"
    }
   },
   "cell_type": "code",
   "source": [
    "from langchain_groq import ChatGroq\n",
    "llm1 = ChatGroq(model=\"Gemma2-9b-It\")\n",
    "response = llm1.invoke(\"Hello\")\n",
    "response.content"
   ],
   "id": "638d9c6540330b74",
   "outputs": [
    {
     "data": {
      "text/plain": [
       "'Hello! 👋\\n\\nHow can I help you today? 😊\\n'"
      ]
     },
     "execution_count": 30,
     "metadata": {},
     "output_type": "execute_result"
    }
   ],
   "execution_count": 30
  },
  {
   "metadata": {
    "ExecuteTime": {
     "end_time": "2025-06-20T03:22:06.277647Z",
     "start_time": "2025-06-20T03:22:06.271881Z"
    }
   },
   "cell_type": "code",
   "source": [
    "def superbot(state: AgentState) -> AgentState:\n",
    "    return {\"messages\": [llm1.invoke(state[\"messages\"])]}"
   ],
   "id": "44503228d337df4d",
   "outputs": [],
   "execution_count": 31
  },
  {
   "metadata": {
    "ExecuteTime": {
     "end_time": "2025-06-20T03:22:45.742235Z",
     "start_time": "2025-06-20T03:22:45.215898Z"
    }
   },
   "cell_type": "code",
   "source": [
    "graph = StateGraph(AgentState)\n",
    "graph.add_node(\"superbot\", superbot)\n",
    "graph.add_edge(START, \"superbot\")\n",
    "graph.add_edge(\"superbot\", END)\n",
    "graph_builder=graph.compile()\n",
    "\n",
    "\n",
    "## Display\n",
    "from IPython.display import Image, display\n",
    "display(Image(graph_builder.get_graph().draw_mermaid_png()))"
   ],
   "id": "8fc6c87e6b313dbb",
   "outputs": [
    {
     "data": {
      "image/png": "[encoded data removed]",
      "text/plain": [
       "<IPython.core.display.Image object>"
      ]
     },
     "metadata": {},
     "output_type": "display_data"
    }
   ],
   "execution_count": 32
  },
  {
   "metadata": {
    "ExecuteTime": {
     "end_time": "2025-06-20T03:23:44.335931Z",
     "start_time": "2025-06-20T03:23:43.900896Z"
    }
   },
   "cell_type": "code",
   "source": "graph_builder.invoke({'messages':\"Hi,My name is Optimus And I like cricket\"})",
   "id": "a4cd45785fdd62f3",
   "outputs": [
    {
     "data": {
      "text/plain": [
       "{'messages': [HumanMessage(content='Hi,My name is Optimus And I like cricket', additional_kwargs={}, response_metadata={}, id='dccd15d6-9f79-4bce-94ed-c4356301ed7d'),\n",
       "  AIMessage(content=\"Hello Optimus! It's nice to meet you.  \\n\\nThat's great you like cricket! It's a fantastic sport. What do you enjoy most about it? 🏏 \\n\\nDo you have a favorite team or player? 😊\\n\\n\", additional_kwargs={}, response_metadata={'token_usage': {'completion_tokens': 54, 'prompt_tokens': 19, 'total_tokens': 73, 'completion_time': 0.098181818, 'prompt_time': 0.001876623, 'queue_time': 0.015360544, 'total_time': 0.100058441}, 'model_name': 'Gemma2-9b-It', 'system_fingerprint': 'fp_10c08bf97d', 'finish_reason': 'stop', 'logprobs': None}, id='run--f5c7613f-6635-41ef-947c-0246bd6e5aef-0', usage_metadata={'input_tokens': 19, 'output_tokens': 54, 'total_tokens': 73})]}"
      ]
     },
     "execution_count": 33,
     "metadata": {},
     "output_type": "execute_result"
    }
   ],
   "execution_count": 33
  },
  {
   "metadata": {},
   "cell_type": "code",
   "outputs": [],
   "execution_count": null,
   "source": "",
   "id": "90a14cca0293779e"
  }
 ],
 "metadata": {
  "kernelspec": {
   "display_name": "Python 3",
   "language": "python",
   "name": "python3"
  },
  "language_info": {
   "codemirror_mode": {
    "name": "ipython",
    "version": 2
   },
   "file_extension": ".py",
   "mimetype": "text/x-python",
   "name": "python",
   "nbconvert_exporter": "python",
   "pygments_lexer": "ipython2",
   "version": "2.7.6"
  }
 },
 "nbformat": 4,
 "nbformat_minor": 5
}
