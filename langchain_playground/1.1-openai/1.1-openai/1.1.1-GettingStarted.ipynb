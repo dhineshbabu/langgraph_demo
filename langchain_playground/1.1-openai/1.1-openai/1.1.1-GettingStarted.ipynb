{
 "cells": [
  {
   "cell_type": "markdown",
   "metadata": {},
   "source": [
    "#### Getting started With Langchain And Open AI\n",
    "\n",
    "In this quickstart we'll see how to:\n",
    "\n",
    "- Get setup with LangChain, LangSmith and LangServe\n",
    "- Use the most basic and common components of LangChain: prompt templates, models, and output parsers.\n",
    "- Build a simple application with LangChain\n",
    "- Trace your application with LangSmith\n",
    "- Serve your application with LangServe"
   ]
  },
  {
   "cell_type": "code",
   "metadata": {
    "ExecuteTime": {
     "end_time": "2025-06-19T18:26:07.301598Z",
     "start_time": "2025-06-19T18:26:07.294823Z"
    }
   },
   "source": [
    "import os\n",
    "from dotenv import load_dotenv\n",
    "load_dotenv()\n",
    "\n",
    "os.environ['OPENAI_API_KEY']=os.getenv(\"OPENAI_API_KEY\")\n",
    "## Langsmith Tracking\n",
    "os.environ[\"LANGCHAIN_API_KEY\"]=os.getenv(\"LANGCHAIN_API_KEY\")\n",
    "os.environ[\"LANGCHAIN_TRACING_V2\"]=\"true\"\n",
    "os.environ[\"LANGCHAIN_PROJECT\"]=os.getenv(\"LANGCHAIN_PROJECT\")"
   ],
   "outputs": [],
   "execution_count": 1
  },
  {
   "metadata": {},
   "cell_type": "code",
   "outputs": [],
   "execution_count": null,
   "source": ""
  },
  {
   "cell_type": "code",
   "metadata": {
    "ExecuteTime": {
     "end_time": "2025-06-19T18:26:13.126453Z",
     "start_time": "2025-06-19T18:26:12.180617Z"
    }
   },
   "source": [
    "from langchain_openai import ChatOpenAI\n",
    "llm=ChatOpenAI(model=\"gpt-4o\")\n",
    "print(llm)"
   ],
   "outputs": [
    {
     "name": "stdout",
     "output_type": "stream",
     "text": [
      "client=<openai.resources.chat.completions.completions.Completions object at 0x10951cf80> async_client=<openai.resources.chat.completions.completions.AsyncCompletions object at 0x109e40740> root_client=<openai.OpenAI object at 0x108bdcb60> root_async_client=<openai.AsyncOpenAI object at 0x10951d0a0> model_name='gpt-4o' model_kwargs={} openai_api_key=SecretStr('**********')\n"
     ]
    }
   ],
   "execution_count": 2
  },
  {
   "cell_type": "code",
   "metadata": {
    "ExecuteTime": {
     "end_time": "2025-06-19T18:26:49.447934Z",
     "start_time": "2025-06-19T18:26:41.763667Z"
    }
   },
   "source": [
    "## Input and get response form LLM\n",
    "result=llm.invoke(\"What is generative AI?\")"
   ],
   "outputs": [],
   "execution_count": 3
  },
  {
   "cell_type": "code",
   "metadata": {
    "ExecuteTime": {
     "end_time": "2025-06-19T18:26:51.241038Z",
     "start_time": "2025-06-19T18:26:51.237649Z"
    }
   },
   "source": [
    "print(result)"
   ],
   "outputs": [
    {
     "name": "stdout",
     "output_type": "stream",
     "text": [
      "content=\"Generative AI refers to a category of artificial intelligence systems designed to create new content, often mimicking human creativity, by learning from existing data. These systems employ machine learning techniques, particularly deep learning models like Generative Adversarial Networks (GANs), Variational Autoencoders (VAEs), and Transformer models, to produce novel outputs. \\n\\nSome common applications of generative AI include:\\n\\n1. **Text Generation**: Algorithms can produce written content, from articles and stories to poetry and conversational responses, as seen with language models like OpenAI's GPT-3 and successors.\\n\\n2. **Image and Video Creation**: Models like DALL-E or GANs are capable of generating highly realistic images or artwork by training on large datasets of existing media.\\n\\n3. **Music Composition**: AI can create music by learning from patterns in compositions and producing new melodies or even full orchestrations.\\n\\n4. **Voice and Speech Synthesis**: Systems can generate human-like speech or modify existing recordings, useful in virtual assistants and dubbing.\\n\\n5. **Data Augmentation**: Generative AI can produce synthetic data for training other machine learning models, enhancing datasets where real data is scarce.\\n\\nGenerative AI works by understanding and capturing the underlying patterns from the input data and leveraging these patterns to create outputs that are coherent and contextually relevant. It holds significant potential across industries, from entertainment and media to healthcare and beyond, but also raises important ethical and practical questions around authenticity, privacy, and intellectual property.\" additional_kwargs={'refusal': None} response_metadata={'token_usage': {'completion_tokens': 301, 'prompt_tokens': 13, 'total_tokens': 314, 'completion_tokens_details': {'accepted_prediction_tokens': 0, 'audio_tokens': 0, 'reasoning_tokens': 0, 'rejected_prediction_tokens': 0}, 'prompt_tokens_details': {'audio_tokens': 0, 'cached_tokens': 0}}, 'model_name': 'gpt-4o-2024-08-06', 'system_fingerprint': 'fp_07871e2ad8', 'id': 'chatcmpl-BkEGAdKolw6gH9PmmKhIbNCPk89aF', 'service_tier': 'default', 'finish_reason': 'stop', 'logprobs': None} id='run--2f108386-8df0-441f-bfe8-3ed81bb00819-0' usage_metadata={'input_tokens': 13, 'output_tokens': 301, 'total_tokens': 314, 'input_token_details': {'audio': 0, 'cache_read': 0}, 'output_token_details': {'audio': 0, 'reasoning': 0}}\n"
     ]
    }
   ],
   "execution_count": 4
  },
  {
   "metadata": {
    "ExecuteTime": {
     "end_time": "2025-06-19T18:27:54.497393Z",
     "start_time": "2025-06-19T18:27:54.485883Z"
    }
   },
   "cell_type": "code",
   "source": "result.content",
   "outputs": [
    {
     "data": {
      "text/plain": [
       "\"Generative AI refers to a category of artificial intelligence systems designed to create new content, often mimicking human creativity, by learning from existing data. These systems employ machine learning techniques, particularly deep learning models like Generative Adversarial Networks (GANs), Variational Autoencoders (VAEs), and Transformer models, to produce novel outputs. \\n\\nSome common applications of generative AI include:\\n\\n1. **Text Generation**: Algorithms can produce written content, from articles and stories to poetry and conversational responses, as seen with language models like OpenAI's GPT-3 and successors.\\n\\n2. **Image and Video Creation**: Models like DALL-E or GANs are capable of generating highly realistic images or artwork by training on large datasets of existing media.\\n\\n3. **Music Composition**: AI can create music by learning from patterns in compositions and producing new melodies or even full orchestrations.\\n\\n4. **Voice and Speech Synthesis**: Systems can generate human-like speech or modify existing recordings, useful in virtual assistants and dubbing.\\n\\n5. **Data Augmentation**: Generative AI can produce synthetic data for training other machine learning models, enhancing datasets where real data is scarce.\\n\\nGenerative AI works by understanding and capturing the underlying patterns from the input data and leveraging these patterns to create outputs that are coherent and contextually relevant. It holds significant potential across industries, from entertainment and media to healthcare and beyond, but also raises important ethical and practical questions around authenticity, privacy, and intellectual property.\""
      ]
     },
     "execution_count": 5,
     "metadata": {},
     "output_type": "execute_result"
    }
   ],
   "execution_count": 5
  },
  {
   "cell_type": "code",
   "execution_count": 9,
   "metadata": {},
   "outputs": [
    {
     "data": {
      "text/plain": [
       "ChatPromptTemplate(input_variables=['input'], messages=[SystemMessagePromptTemplate(prompt=PromptTemplate(input_variables=[], template='You are an expert AI Engineer. Provide me answers based on the questions')), HumanMessagePromptTemplate(prompt=PromptTemplate(input_variables=['input'], template='{input}'))])"
      ]
     },
     "execution_count": 9,
     "metadata": {},
     "output_type": "execute_result"
    }
   ],
   "source": [
    "### Chatprompt Template\n",
    "from langchain_core.prompts import ChatPromptTemplate\n",
    "\n",
    "prompt=ChatPromptTemplate.from_messages(\n",
    "    [\n",
    "        (\"system\",\"You are an expert AI Engineer. Provide me answers based on the questions\"),\n",
    "        (\"user\",\"{input}\")\n",
    "    ]\n",
    "\n",
    ")\n",
    "prompt"
   ]
  },
  {
   "cell_type": "code",
   "execution_count": 10,
   "metadata": {},
   "outputs": [
    {
     "name": "stdout",
     "output_type": "stream",
     "text": [
      "content=\"Certainly! Langsmith is a tool designed to enhance the development and debugging of applications that utilize large language models (LLMs) and AI chains. It offers several key features to streamline the development process:\\n\\n1. **Logging and Tracing**: Langsmith provides robust logging and tracing capabilities, allowing developers to gain insights into the behavior of their LLM applications. This helps in understanding how data flows through the system and identifying any issues or bottlenecks.\\n\\n2. **Testing**: It offers tools to test the performance and reliability of LLMs and chains. This includes the ability to run various test scenarios and assess how the models perform under different conditions.\\n\\n3. **Monitoring**: Langsmith includes monitoring features to keep track of the application's performance in real-time. This is crucial for maintaining the reliability and efficiency of LLM applications in production environments.\\n\\n4. **Integrations**: The tool can be integrated with various platforms and services, making it a versatile addition to the developer's toolkit. This includes support for different LLM providers and development frameworks.\\n\\n5. **User Interface**: Langsmith often comes with a user-friendly interface that simplifies the process of managing and debugging LLM applications. This can be particularly beneficial for developers who are not experts in AI but need to work with LLMs.\\n\\nOverall, Langsmith acts as a comprehensive solution for developers looking to build, test, and maintain applications that leverage large language models and AI chains effectively.\" response_metadata={'token_usage': {'completion_tokens': 292, 'prompt_tokens': 33, 'total_tokens': 325}, 'model_name': 'gpt-4o', 'system_fingerprint': 'fp_f4e629d0a5', 'finish_reason': 'stop', 'logprobs': None} id='run-cfbfb9b0-0c8f-4712-997a-a36c0319d1e0-0' usage_metadata={'input_tokens': 33, 'output_tokens': 292, 'total_tokens': 325}\n"
     ]
    }
   ],
   "source": [
    "## chain \n",
    "chain=prompt|llm\n",
    "\n",
    "response=chain.invoke({\"input\":\"Can you tell me about Langsmith?\"})\n",
    "print(response)"
   ]
  },
  {
   "cell_type": "code",
   "execution_count": 11,
   "metadata": {},
   "outputs": [
    {
     "data": {
      "text/plain": [
       "langchain_core.messages.ai.AIMessage"
      ]
     },
     "execution_count": 11,
     "metadata": {},
     "output_type": "execute_result"
    }
   ],
   "source": [
    "type(response)"
   ]
  },
  {
   "cell_type": "code",
   "execution_count": 12,
   "metadata": {},
   "outputs": [
    {
     "name": "stdout",
     "output_type": "stream",
     "text": [
      "Certainly! As of my knowledge cutoff date in October 2023, \"Langsmith\" does not directly correlate to any widely recognized technology, framework, or concept in the field of AI or software engineering. It's possible that it might be a term used within a specific company, a proprietary tool, or a recent development that hasn't gained widespread recognition.\n",
      "\n",
      "However, if \"Langsmith\" is a term related to a specific context or a new product or service that emerged after my last update, I wouldn't have information on it. If you could provide more context or details, I'd be happy to help you understand the concept or direct you to the right resources!\n"
     ]
    }
   ],
   "source": [
    "## stroutput Parser\n",
    "\n",
    "from langchain_core.output_parsers import StrOutputParser\n",
    "output_parser=StrOutputParser()\n",
    "chain=prompt|llm|output_parser\n",
    "\n",
    "response=chain.invoke({\"input\":\"Can you tell me about Langsmith?\"})\n",
    "print(response)"
   ]
  },
  {
   "cell_type": "code",
   "execution_count": null,
   "metadata": {},
   "outputs": [],
   "source": []
  },
  {
   "cell_type": "code",
   "execution_count": null,
   "metadata": {},
   "outputs": [],
   "source": []
  },
  {
   "cell_type": "code",
   "execution_count": null,
   "metadata": {},
   "outputs": [],
   "source": []
  },
  {
   "cell_type": "code",
   "execution_count": null,
   "metadata": {},
   "outputs": [],
   "source": []
  },
  {
   "cell_type": "code",
   "execution_count": null,
   "metadata": {},
   "outputs": [],
   "source": []
  },
  {
   "cell_type": "code",
   "execution_count": null,
   "metadata": {},
   "outputs": [],
   "source": []
  },
  {
   "cell_type": "code",
   "execution_count": null,
   "metadata": {},
   "outputs": [],
   "source": []
  },
  {
   "cell_type": "code",
   "execution_count": null,
   "metadata": {},
   "outputs": [],
   "source": []
  },
  {
   "cell_type": "code",
   "execution_count": null,
   "metadata": {},
   "outputs": [],
   "source": []
  }
 ],
 "metadata": {
  "kernelspec": {
   "display_name": "Python 3",
   "language": "python",
   "name": "python3"
  },
  "language_info": {
   "codemirror_mode": {
    "name": "ipython",
    "version": 3
   },
   "file_extension": ".py",
   "mimetype": "text/x-python",
   "name": "python",
   "nbconvert_exporter": "python",
   "pygments_lexer": "ipython3",
   "version": "3.10.0"
  }
 },
 "nbformat": 4,
 "nbformat_minor": 2
}
